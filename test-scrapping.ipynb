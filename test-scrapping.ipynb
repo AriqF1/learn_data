{
 "cells": [
  {
   "cell_type": "code",
   "execution_count": 1,
   "id": "af8dd29e",
   "metadata": {},
   "outputs": [],
   "source": [
    "import requests as rs\n",
    "from bs4 import BeautifulSoup as bs"
   ]
  },
  {
   "cell_type": "code",
   "execution_count": 2,
   "id": "53e09360",
   "metadata": {},
   "outputs": [
    {
     "name": "stdout",
     "output_type": "stream",
     "text": [
      "Selain di Banten, TNI AL Bakal Uji Coba Panen Kedelai di Lampung dan Bogor\n",
      "Bukan Malas Ngantor, Ini Alasan Sistem Hybrid Disukai Karyawan\n",
      "Bukan Malas Ngantor, Ini Alasan Sistem Hybrid Disukai Karyawan\n",
      "Komisi X DPR Minta Ada Transparansi Terkait Penulisan Ulang Sejarah\n",
      "Robot Humanoid di China \"Serang\" Pekerja Pabrik, Picu Kekhawatiran\n",
      "Tuding Diskriminasi dalam Penanganan Kasusnya, Jan Hwa Diana: Saya Minta Segel Gudang Dicabut\n",
      "Gedung Sempat Disegel Ahli Waris, Aktivitas SDN Utan Jaya Depok Kembali Normal\n",
      "Anggota DPR Usul Portofolio Kreator Konten Bisa Jadi Jaminan KUR\n"
     ]
    }
   ],
   "source": [
    "url = \"https://www.kompas.com/\"\n",
    "response = rs.get(url)\n",
    "if response.status_code == 200:\n",
    "    soup = bs(response.text, 'html.parser')\n",
    "    # mengambil semua tag <h1> dari halaman urlnya\n",
    "    h1_tags = soup.find_all('h1')\n",
    "    for tag in h1_tags:\n",
    "        print(tag.text)\n",
    "else:\n",
    "    print(f\"Failed to retrieve page: {response.status_code}\")"
   ]
  },
  {
   "cell_type": "code",
   "execution_count": 3,
   "id": "1a81fd35",
   "metadata": {},
   "outputs": [],
   "source": [
    "item_populars = soup.find_all('div', class_='mostItem')[:5]\n",
    "data = []\n",
    "for item in item_populars:\n",
    "    # Mengambil nomor urut\n",
    "    number = item.find('div', class_='mostNumber').get_text(strip=True)\n",
    "    \n",
    "    # Mengambil judul artikel\n",
    "    title = item.find('h2', class_='mostTitle').get_text(strip=True)\n",
    "    \n",
    "    # Mengambil kategori (channel)\n",
    "    channel = item.find('div', class_='mostChannel').get_text(strip=True)\n",
    "    \n",
    "    # Mengambil URL artikel\n",
    "    url_article = item.find('a')['href']\n",
    "    \n",
    "    # Menyimpan data ke dalam list yang kosong dengan append\n",
    "    data.append({\n",
    "        'number': number,\n",
    "        'title': title,\n",
    "        'channel': channel,\n",
    "        'url_article': url_article\n",
    "    })"
   ]
  },
  {
   "cell_type": "code",
   "execution_count": 4,
   "id": "08bd787f",
   "metadata": {},
   "outputs": [
    {
     "name": "stdout",
     "output_type": "stream",
     "text": [
      "  number                                              title   channel  \\\n",
      "0      1            Jan Hwa Diana Ditetapkan Jadi Tersangka  REGIONAL   \n",
      "1      2  \"Saya Merasa Berdagang Tidak Mudah, Ada Kesala...  REGIONAL   \n",
      "2      3  Harga Emas Hari Ini 9 Mei 2025, Antam, Galeri ...    jateng   \n",
      "3      4  Jan Hwa Diana Sentoso Seal Jadi Tersangka Peru...  REGIONAL   \n",
      "4      5  13 Paus yang Pilih Nama \"Leo\" Sebelum Robert P...    GLOBAL   \n",
      "\n",
      "                                         url_article  \n",
      "0  https://surabaya.kompas.com/read/2025/05/09/07...  \n",
      "1  https://regional.kompas.com/read/2025/05/09/09...  \n",
      "2  https://www.kompas.com/jawa-tengah/read/2025/0...  \n",
      "3  https://surabaya.kompas.com/read/2025/05/09/09...  \n",
      "4  https://www.kompas.com/global/read/2025/05/09/...  \n"
     ]
    }
   ],
   "source": [
    "import pandas as pd\n",
    "# membuat variabel df untuk menampung data dari list data\n",
    "df = pd.DataFrame(data)\n",
    "\n",
    "# menampilkan data dalam bentuk tabel\n",
    "print(df)"
   ]
  },
  {
   "cell_type": "code",
   "execution_count": null,
   "id": "4753a17f",
   "metadata": {},
   "outputs": [],
   "source": [
    "# menghapus kolom 'number' dari dataframe\n",
    "df.drop('number', axis=1, inplace=True)"
   ]
  },
  {
   "cell_type": "code",
   "execution_count": 6,
   "id": "3982a72c",
   "metadata": {},
   "outputs": [
    {
     "name": "stdout",
     "output_type": "stream",
     "text": [
      "                                               title   channel  \\\n",
      "0            Jan Hwa Diana Ditetapkan Jadi Tersangka  REGIONAL   \n",
      "1  \"Saya Merasa Berdagang Tidak Mudah, Ada Kesala...  REGIONAL   \n",
      "2  Harga Emas Hari Ini 9 Mei 2025, Antam, Galeri ...    jateng   \n",
      "3  Jan Hwa Diana Sentoso Seal Jadi Tersangka Peru...  REGIONAL   \n",
      "4  13 Paus yang Pilih Nama \"Leo\" Sebelum Robert P...    GLOBAL   \n",
      "\n",
      "                                         url_article  \n",
      "0  https://surabaya.kompas.com/read/2025/05/09/07...  \n",
      "1  https://regional.kompas.com/read/2025/05/09/09...  \n",
      "2  https://www.kompas.com/jawa-tengah/read/2025/0...  \n",
      "3  https://surabaya.kompas.com/read/2025/05/09/09...  \n",
      "4  https://www.kompas.com/global/read/2025/05/09/...  \n"
     ]
    }
   ],
   "source": [
    "print(df)"
   ]
  },
  {
   "cell_type": "code",
   "execution_count": null,
   "id": "00520ca5",
   "metadata": {},
   "outputs": [
    {
     "name": "stdout",
     "output_type": "stream",
     "text": [
      "                                               title   channel  \\\n",
      "0            Jan Hwa Diana Ditetapkan Jadi Tersangka  REGIONAL   \n",
      "1  \"Saya Merasa Berdagang Tidak Mudah, Ada Kesala...  REGIONAL   \n",
      "3  Jan Hwa Diana Sentoso Seal Jadi Tersangka Peru...  REGIONAL   \n",
      "\n",
      "                                         url_article  \n",
      "0  https://surabaya.kompas.com/read/2025/05/09/07...  \n",
      "1  https://regional.kompas.com/read/2025/05/09/09...  \n",
      "3  https://surabaya.kompas.com/read/2025/05/09/09...  \n"
     ]
    }
   ],
   "source": [
    "df_filtered = df[df['channel'] == 'REGIONAL']\n",
    "# menampilkan data channel yang sudah difilter dengan channel REGIONAL\n",
    "print(df_filtered)"
   ]
  }
 ],
 "metadata": {
  "kernelspec": {
   "display_name": "Python 3",
   "language": "python",
   "name": "python3"
  },
  "language_info": {
   "codemirror_mode": {
    "name": "ipython",
    "version": 3
   },
   "file_extension": ".py",
   "mimetype": "text/x-python",
   "name": "python",
   "nbconvert_exporter": "python",
   "pygments_lexer": "ipython3",
   "version": "3.13.3"
  }
 },
 "nbformat": 4,
 "nbformat_minor": 5
}
