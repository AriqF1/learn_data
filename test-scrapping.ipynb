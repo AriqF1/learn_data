{
 "cells": [
  {
   "cell_type": "code",
   "execution_count": 1,
   "id": "af8dd29e",
   "metadata": {},
   "outputs": [],
   "source": [
    "import requests as rs\n",
    "from bs4 import BeautifulSoup as bs"
   ]
  },
  {
   "cell_type": "code",
   "execution_count": 2,
   "id": "53e09360",
   "metadata": {},
   "outputs": [
    {
     "name": "stdout",
     "output_type": "stream",
     "text": [
      "Pesawat Antariksa Kosmos 482 Berpotensi Menghantam Indonesia pada 10 Mei 2025\n",
      "Turis Vatikan Sabar Menanti Paus Baru meski Asap Hitam Keluar 2 Kali\n",
      "Konklaf Digelar, Mengapa Tak Pernah Ada Paus Perempuan?\n",
      "32 Pati TNI Naik Pangkat, Kristomei Sianturi Resmi Mayor Jenderal\n",
      "Anak Kades Aniaya Warga karena Kesal Bapaknya Dikritik Jadi Tersangka\n",
      "Rano Karno Nonton Film Bareng Petugas Damkar dan PPSU, Listrik Sempat Mati Saat Film Diputar\n",
      "Dedi Mulyadi Siapkan Sekolah Khusus Usai Siswa Jalani Pendidikan di Barak Militer\n"
     ]
    }
   ],
   "source": [
    "url = \"https://www.kompas.com/\"\n",
    "response = rs.get(url)\n",
    "if response.status_code == 200:\n",
    "    soup = bs(response.text, 'html.parser')\n",
    "    #catch semua <h1>\n",
    "    h1_tags = soup.find_all('h1')\n",
    "    for tag in h1_tags:\n",
    "        print(tag.text)\n",
    "else:\n",
    "    print(f\"Failed to retrieve page: {response.status_code}\")"
   ]
  },
  {
   "cell_type": "code",
   "execution_count": 3,
   "id": "1a81fd35",
   "metadata": {},
   "outputs": [],
   "source": [
    "item_populars = soup.find_all('div', class_='mostItem')[:5]\n",
    "data = []\n",
    "for item in item_populars:\n",
    "    # Mengambil nomor urut\n",
    "    number = item.find('div', class_='mostNumber').get_text(strip=True)\n",
    "    \n",
    "    # Mengambil judul artikel\n",
    "    title = item.find('h2', class_='mostTitle').get_text(strip=True)\n",
    "    \n",
    "    # Mengambil kategori (channel)\n",
    "    channel = item.find('div', class_='mostChannel').get_text(strip=True)\n",
    "    \n",
    "    # Mengambil URL artikel\n",
    "    url_article = item.find('a')['href']\n",
    "    \n",
    "    # Menyimpan data ke dalam list yang kosong dengan append\n",
    "    data.append({\n",
    "        'number': number,\n",
    "        'title': title,\n",
    "        'channel': channel,\n",
    "        'url_article': url_article\n",
    "    })"
   ]
  },
  {
   "cell_type": "code",
   "execution_count": 4,
   "id": "08bd787f",
   "metadata": {},
   "outputs": [
    {
     "name": "stdout",
     "output_type": "stream",
     "text": [
      "  number                                              title channel  \\\n",
      "0      1  Warga Papua Penambang Terbunuh, Lenis Kogoya k...    NEWS   \n",
      "1      2  Pesawat Antariksa Kosmos 482 Berpotensi Mengha...    TREN   \n",
      "2      3  32 Pati TNI Naik Pangkat, Kristomei Sianturi R...    NEWS   \n",
      "3      4     Pakistan Jatuhkan 25 Drone India Buatan Israel  GLOBAL   \n",
      "4      5  Ada Long Weekend Jelang Hari Libur Nasional Me...  jateng   \n",
      "\n",
      "                                         url_article  \n",
      "0  https://nasional.kompas.com/read/2025/05/08/18...  \n",
      "1  https://www.kompas.com/tren/read/2025/05/08/20...  \n",
      "2  https://nasional.kompas.com/read/2025/05/08/20...  \n",
      "3  https://www.kompas.com/global/read/2025/05/08/...  \n",
      "4  https://www.kompas.com/jawa-tengah/read/2025/0...  \n"
     ]
    }
   ],
   "source": [
    "import pandas as pd\n",
    "# membuat variabel df untuk menampung data dari list data\n",
    "df = pd.DataFrame(data)\n",
    "\n",
    "# menampilkan data dalam bentuk tabel\n",
    "print(df)"
   ]
  },
  {
   "cell_type": "code",
   "execution_count": null,
   "id": "4753a17f",
   "metadata": {},
   "outputs": [],
   "source": []
  }
 ],
 "metadata": {
  "kernelspec": {
   "display_name": "Python 3",
   "language": "python",
   "name": "python3"
  },
  "language_info": {
   "codemirror_mode": {
    "name": "ipython",
    "version": 3
   },
   "file_extension": ".py",
   "mimetype": "text/x-python",
   "name": "python",
   "nbconvert_exporter": "python",
   "pygments_lexer": "ipython3",
   "version": "3.13.3"
  }
 },
 "nbformat": 4,
 "nbformat_minor": 5
}
