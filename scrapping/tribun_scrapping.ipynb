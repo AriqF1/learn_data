{
 "cells": [
  {
   "cell_type": "code",
   "execution_count": 60,
   "id": "f1bef565",
   "metadata": {},
   "outputs": [],
   "source": [
    "import requests as rs\n",
    "import time as time\n",
    "from bs4 import BeautifulSoup as bs"
   ]
  },
  {
   "cell_type": "code",
   "execution_count": 61,
   "id": "fecaa1a8",
   "metadata": {},
   "outputs": [
    {
     "name": "stdout",
     "output_type": "stream",
     "text": [
      "Jumlah berita ditemukan: 20\n"
     ]
    }
   ],
   "source": [
    "from bs4 import BeautifulSoup\n",
    "import requests\n",
    "\n",
    "url = 'https://www.tribunnews.com/2025/05?page=74'\n",
    "headers = {\n",
    "    'User-Agent': 'Mozilla/5.0 (Windows NT 10.0; Win64; x64) AppleWebKit/537.36 (KHTML, like Gecko) Chrome/122.0.0.0 Safari/537.36'\n",
    "}\n",
    "\n",
    "response = requests.get(url, headers=headers)\n",
    "soup = BeautifulSoup(response.text, 'html.parser')\n",
    "\n",
    "item_populars = soup.find_all('li', class_='ptb15')\n",
    "print(f\"Jumlah berita ditemukan: {len(item_populars)}\")\n",
    "\n",
    "data = []\n",
    "for item in item_populars:\n",
    "    # Membuat tag untuk judul berita\n",
    "    title_tag = item.find('h3', class_='fbo f16')\n",
    "    # Mengambil teks judul berita dari tag h3\n",
    "    title = title_tag.get_text(strip=True) if title_tag else None\n",
    "    # Mengambil link berita dari tag a di dalam tag h3\n",
    "    link = title_tag.a['href'] if title_tag and title_tag.a else None\n",
    "    # Mengambil tanggal berita dari tag time dengan class 'grey'\n",
    "    date_tag = item.find('time', class_='grey')\n",
    "    # Mengambil teks tanggal berita dari tag time\n",
    "    date = date_tag.get_text(strip=True) if date_tag else None\n",
    "\n",
    "    # Mengambil gambar berita dari tag img\n",
    "    image_tag = item.find('img')\n",
    "    # Mengambil link gambar dari atribut src tag img\n",
    "    image = image_tag['src'] if image_tag and image_tag.has_attr('src') else None\n",
    "\n",
    "    data.append({\n",
    "        'title': title,\n",
    "        'date': date,\n",
    "        'link': link,\n",
    "        'image': image,\n",
    "    })"
   ]
  },
  {
   "cell_type": "code",
   "execution_count": 62,
   "id": "bb392d07",
   "metadata": {},
   "outputs": [
    {
     "name": "stdout",
     "output_type": "stream",
     "text": [
      "                                                title  \\\n",
      "0   Ahmad Albar Mengaku Tak Suka Fachry Albar Kemb...   \n",
      "1   Respons Aduan Pembelian Tiket Konser Day6 di J...   \n",
      "2   Imparsial Sebut Menhan Tidak Paham Hak Warga N...   \n",
      "3   KPK Terima 802 Laporan Gratifikasi Lebaran 202...   \n",
      "4   Kabar Terbaru Anthony Ginting Sejak 4 Bulan Me...   \n",
      "5   Tangisan Raffi Ahmad Saksikan Luna Maya Dinika...   \n",
      "6   Ketua KPK Sebut Direksi dan Komisaris BUMN Tet...   \n",
      "7   Jadwal Pemadaman Listrik 8 Mei 2025: Cek Wilay...   \n",
      "8   Sambut Paus Baru, Penjahit Vatikan Siapkan Jub...   \n",
      "9   Jahe Merah dan Gaun Pengantin, Kolaborasi Tak ...   \n",
      "10  Prabowo Dukung Pengesahan RUU Perampasan Aset,...   \n",
      "11  DPR RI Jadi Tuan Rumah Konferensi Parlemen Neg...   \n",
      "12  Sosok Intan Nurul, Wabup Tangerang Ingin Tiru ...   \n",
      "13  Komentar Arteta setelah Arsenal Gagal Lolos Fi...   \n",
      "14  Alasan Roy Suryo Persoalkan Ijazah Jokowi Mesk...   \n",
      "15  Desain Gedung Legislatif-Yudikatif di IKN Tela...   \n",
      "16  YLBHI: Militerisme di Indonesia Sudah Terlihat...   \n",
      "17  Sosok Fuji di Mata Ayah Verrell Bramasta: Baik...   \n",
      "18  Purnawirawan TNI Gulirkan Pemakzulan Gibran, G...   \n",
      "19  Kementerian PU Sebut Biaya Pembangunan Satu Se...   \n",
      "\n",
      "                           date  \\\n",
      "0   Kamis, 8 Mei 2025 07:21 WIB   \n",
      "1   Kamis, 8 Mei 2025 07:20 WIB   \n",
      "2   Kamis, 8 Mei 2025 07:20 WIB   \n",
      "3   Kamis, 8 Mei 2025 07:15 WIB   \n",
      "4   Kamis, 8 Mei 2025 07:07 WIB   \n",
      "5   Kamis, 8 Mei 2025 07:03 WIB   \n",
      "6   Kamis, 8 Mei 2025 07:00 WIB   \n",
      "7   Kamis, 8 Mei 2025 07:00 WIB   \n",
      "8   Kamis, 8 Mei 2025 06:47 WIB   \n",
      "9   Kamis, 8 Mei 2025 06:45 WIB   \n",
      "10  Kamis, 8 Mei 2025 06:39 WIB   \n",
      "11  Kamis, 8 Mei 2025 06:39 WIB   \n",
      "12  Kamis, 8 Mei 2025 06:39 WIB   \n",
      "13  Kamis, 8 Mei 2025 06:34 WIB   \n",
      "14  Kamis, 8 Mei 2025 06:32 WIB   \n",
      "15  Kamis, 8 Mei 2025 06:32 WIB   \n",
      "16  Kamis, 8 Mei 2025 06:29 WIB   \n",
      "17  Kamis, 8 Mei 2025 06:27 WIB   \n",
      "18  Kamis, 8 Mei 2025 06:18 WIB   \n",
      "19  Kamis, 8 Mei 2025 06:17 WIB   \n",
      "\n",
      "                                                 link image  \n",
      "0   https://www.tribunnews.com/seleb/2025/05/08/ah...  None  \n",
      "1   https://www.tribunnews.com/bisnis/2025/05/08/r...  None  \n",
      "2   https://www.tribunnews.com/nasional/2025/05/08...  None  \n",
      "3   https://www.tribunnews.com/nasional/2025/05/08...  None  \n",
      "4   https://www.tribunnews.com/sport/2025/05/08/ka...  None  \n",
      "5   https://www.tribunnews.com/seleb/2025/05/08/ta...  None  \n",
      "6   https://www.tribunnews.com/nasional/2025/05/08...  None  \n",
      "7   https://www.tribunnews.com/regional/2025/05/08...  None  \n",
      "8   https://www.tribunnews.com/internasional/2025/...  None  \n",
      "9   https://www.tribunnews.com/lifestyle/2025/05/0...  None  \n",
      "10  https://www.tribunnews.com/nasional/2025/05/08...  None  \n",
      "11  https://www.tribunnews.com/nasional/2025/05/08...  None  \n",
      "12  https://www.tribunnews.com/regional/2025/05/08...  None  \n",
      "13  https://www.tribunnews.com/superskor/2025/05/0...  None  \n",
      "14  https://www.tribunnews.com/nasional/2025/05/08...  None  \n",
      "15  https://www.tribunnews.com/bisnis/2025/05/08/d...  None  \n",
      "16  https://www.tribunnews.com/nasional/2025/05/08...  None  \n",
      "17  https://www.tribunnews.com/seleb/2025/05/08/so...  None  \n",
      "18  https://www.tribunnews.com/nasional/2025/05/08...  None  \n",
      "19  https://www.tribunnews.com/bisnis/2025/05/08/k...  None  \n"
     ]
    }
   ],
   "source": [
    "import pandas as pd\n",
    "# membuat variabel df untuk menampung data dari list data\n",
    "df = pd.DataFrame(data)\n",
    "\n",
    "# menampilkan data dalam bentuk tabel\n",
    "print(df)\n",
    "\n",
    "# Menyimpan data ke dalam file CSV\n",
    "df.to_csv('../data/data_tribunnews08-2.csv', index=False)"
   ]
  }
 ],
 "metadata": {
  "kernelspec": {
   "display_name": "Python 3",
   "language": "python",
   "name": "python3"
  },
  "language_info": {
   "codemirror_mode": {
    "name": "ipython",
    "version": 3
   },
   "file_extension": ".py",
   "mimetype": "text/x-python",
   "name": "python",
   "nbconvert_exporter": "python",
   "pygments_lexer": "ipython3",
   "version": "3.13.3"
  }
 },
 "nbformat": 4,
 "nbformat_minor": 5
}
