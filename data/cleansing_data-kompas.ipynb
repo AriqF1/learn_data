{
 "cells": [
  {
   "cell_type": "code",
   "execution_count": 4,
   "id": "895774d4",
   "metadata": {},
   "outputs": [],
   "source": [
    "import pandas as pd\n",
    "from datetime import datetime\n",
    "\n",
    "# Contoh data\n",
    "df = pd.read_csv('data_kompas_cleaned.csv')"
   ]
  },
  {
   "cell_type": "code",
   "execution_count": 5,
   "id": "e301e39a",
   "metadata": {},
   "outputs": [],
   "source": [
    "# fungsi untuk lowercase \n",
    "df = df.map(lambda x: x.lower() if isinstance(x, str) else x)"
   ]
  },
  {
   "cell_type": "code",
   "execution_count": 6,
   "id": "4b8bc336",
   "metadata": {},
   "outputs": [],
   "source": [
    "def classify_category(title):\n",
    "    if any(word in title for word in ['presiden', 'dpr', 'pilkada', 'politik', 'menteri', 'parlemen', 'prabowo', 'jokowi', 'pemilu', 'pemilihan', 'gibran', 'pemerintahan', 'kebijakan', 'dedi mulyadi', 'pdip', 'bupati']):\n",
    "        return 'Politik'\n",
    "    elif any(word in title for word in ['korupsi', 'kriminal', 'narkoba', 'penjara', 'pembunuhan', 'kejahatan', 'ditembak', 'ditangkap', 'penipuan', 'pencurian', 'kekerasan']):\n",
    "        return 'Kriminal'\n",
    "    elif any(word in title for word in ['ekonomi', 'inflasi', 'bisnis', 'investasi', 'rupiah', 'perdagangan', 'pasar']):\n",
    "        return 'Ekonomi'\n",
    "    elif any(word in title for word in ['sekolah', 'universitas', 'pendidikan', 'guru', 'mahasiswa', 'kampus', 'pendidikan tinggi', 'ugm', 'kuliah', 'utbk']):\n",
    "        return 'Pendidikan'\n",
    "    elif any(word in title for word in ['bencana', 'iklim', 'cuaca', 'lingkungan', 'gempa', 'tsunami', 'polusi']):\n",
    "        return 'Lingkungan'\n",
    "    elif any(word in title for word in ['bola', 'olahraga', 'pertandingan', 'liga', 'sepak bola', 'basket', 'futsal', 'olimpiade', 'persib']):\n",
    "        return 'Olahraga'\n",
    "    elif any(word in title for word in ['film', 'artis', 'musik', 'hiburan', 'drama', 'teater', 'video', 'tv']):\n",
    "        return 'Hiburan'\n",
    "    elif any(word in title for word in ['dunia', 'internasional', 'luar negeri', 'amerika', 'israel', 'diplomasi', 'perang']):\n",
    "        return 'Internasional'\n",
    "    elif any(word in title for word in ['teknologi', 'internet', 'startup', 'gadget', 'AI', 'robotik', 'programming', 'teknologi informasi']):\n",
    "        return 'Teknologi'\n",
    "    elif any(word in title for word in ['sains', 'astronomi', 'penemuan', 'ilmu', 'penelitian', 'fisika', 'kimia', 'biologi']):\n",
    "        return 'Sains'\n",
    "    elif any(word in title for word in ['kesehatan', 'covid', 'dokter', 'penyakit', 'obat', 'kanker', 'vaksin', 'gizi', 'sakit', 'darah tinggi', 'diabetes', 'ginjal']):\n",
    "        return 'Kesehatan'\n",
    "    elif any(word in title for word in ['sosial', 'masyarakat', 'komunitas', 'volunteer', 'bantuan', 'pengungsi', 'kemanusiaan', 'kapolri', 'cerai']):\n",
    "        return 'Sosial'\n",
    "    elif any(word in title for word in ['gaya hidup', 'fashion', 'makanan', 'travel', 'wisata', 'kecantikan', 'tips', 'trending', 'weekend']):\n",
    "        return 'Gaya Hidup'\n",
    "    elif any(word in title for word in ['keuangan', 'bank', 'investasi', 'asuransi', 'utang', 'nasabah', 'pajak']):\n",
    "        return 'Keuangan'\n",
    "    elif any(word in title for word in ['transportasi', 'mobil', 'kereta', 'pesawat', 'jalan tol', 'infrastruktur']):\n",
    "        return 'Transportasi'\n",
    "    elif any(word in title for word in ['hukum', 'peradilan', 'pengadilan', 'hakim', 'advokat', 'undang-undang', 'peraturan']):\n",
    "        return 'Hukum'\n",
    "    elif any(word in title for word in ['pertanian', 'peternakan', 'perikanan', 'pertambangan', 'pertanian organik']):\n",
    "        return 'Pertanian'\n",
    "    elif any(word in title for word in ['kuliner', 'restoran', 'makanan', 'minuman', 'resep', 'cafe', 'makanan khas']):\n",
    "        return 'Kuliner'\n",
    "    elif any(word in title for word in ['perusahaan', 'korporasi', 'industri', 'pabrik', 'bisnis', 'kerja', 'pengusaha']):\n",
    "        return 'Perusahaan'\n",
    "    elif any(word in title for word in ['astronomi', 'ruang angkasa', 'planet', 'teleskop', 'antariksa', 'roket']):\n",
    "        return 'Astronomi'\n",
    "    elif any(word in title for word in ['game', 'esports', 'video game', 'game mobile', 'game pc']):\n",
    "        return 'Game'\n",
    "    elif any(word in title for word in ['pernikahan', 'kawin', 'rumah tangga', 'keluarga', 'anak-anak', 'divorcing']):\n",
    "        return 'Keluarga'\n",
    "    elif any(word in title for word in ['budaya', 'tradisi', 'adat', 'festival', 'kesenian']):\n",
    "        return 'Budaya'\n",
    "    elif any(word in title for word in ['lingkungan', 'polusi', 'pemanasan global', 'recycle', 'konservasi']):\n",
    "        return 'Lingkungan'\n",
    "    elif any(word in title for word in ['militer', 'perang', 'tentara', 'senjata', 'konflik', 'strategi', 'pertahanan', 'laksamana']):\n",
    "        return 'Militer'\n",
    "    else:\n",
    "        return 'Lainnya'\n",
    "\n",
    "df['category'] = df['title'].apply(classify_category)\n"
   ]
  },
  {
   "cell_type": "code",
   "execution_count": 7,
   "id": "6bf702bb",
   "metadata": {},
   "outputs": [],
   "source": [
    "# Menyimpan hasil ke CSV\n",
    "df.to_csv('data_kompas_cleaned.csv', index=False)"
   ]
  }
 ],
 "metadata": {
  "kernelspec": {
   "display_name": "Python 3",
   "language": "python",
   "name": "python3"
  },
  "language_info": {
   "codemirror_mode": {
    "name": "ipython",
    "version": 3
   },
   "file_extension": ".py",
   "mimetype": "text/x-python",
   "name": "python",
   "nbconvert_exporter": "python",
   "pygments_lexer": "ipython3",
   "version": "3.13.3"
  }
 },
 "nbformat": 4,
 "nbformat_minor": 5
}
