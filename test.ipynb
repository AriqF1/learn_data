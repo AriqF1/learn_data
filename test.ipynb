{
 "cells": [
  {
   "cell_type": "code",
   "execution_count": 6,
   "id": "af8dd29e",
   "metadata": {},
   "outputs": [],
   "source": [
    "import requests as rs\n",
    "from bs4 import BeautifulSoup as bs"
   ]
  },
  {
   "cell_type": "code",
   "execution_count": 8,
   "id": "53e09360",
   "metadata": {},
   "outputs": [
    {
     "name": "stdout",
     "output_type": "stream",
     "text": [
      "BRIN Prediksi Idul Adha 2025 Berpotensi Beda, Ini Alasannya\n",
      "Penjelasan Lengkap Ahmad Dhani di Sidang MKD DPR RI Terkait Laporan Pelanggaran Etik\n",
      "Kecelakaan Bus Terus Berulang, Imbas Berkurangnya Anggaran Keselamatan\n",
      "Gugat UU TNI, Koalisi Masyarakat Singgung Anak \"Nakal\" Dibawa ke Barak\n",
      "SDN Utan Jaya Depok Disegel, Siswa Terpaksa Belajar dari Rumah\n",
      "Tangis Haru Luna Maya Saat Maxime Bouttier Ucapkan Ijab Kabul\n",
      "IDAI Minta Kemenkes Transparan soal Alasan Mutasi Dokter Anak\n"
     ]
    }
   ],
   "source": [
    "url = \"https://www.kompas.com/\"\n",
    "response = rs.get(url)\n",
    "if response.status_code == 200:\n",
    "    soup = bs(response.text, 'html.parser')\n",
    "    #catch semua <h1>\n",
    "    h1_tags = soup.find_all('h1')\n",
    "    for tag in h1_tags:\n",
    "        print(tag.text)\n",
    "else:\n",
    "    print(f\"Failed to retrieve page: {response.status_code}\")"
   ]
  },
  {
   "cell_type": "code",
   "execution_count": 30,
   "id": "1a81fd35",
   "metadata": {},
   "outputs": [
    {
     "name": "stdout",
     "output_type": "stream",
     "text": [
      "Nomor: 1\n",
      "Judul: Maskawin Pernikahan Luna Maya dan Maxime Bouttier: 7,5 Gram Logam Mulia dan Uang 2.025 Dollar\n",
      "Kategori: HYPE\n",
      "URL: https://www.kompas.com/hype/read/2025/05/07/163520966/maskawin-pernikahan-luna-maya-dan-maxime-bouttier-75-gram-logam-mulia-dan?source=terpopuler\n",
      "--------------------------------------------------\n",
      "Nomor: 2\n",
      "Judul: 13 Tanda Ginjal Bermasalah yang Dirasakan di Malam Hari, Salah Satunya Sesak Nafas\n",
      "Kategori: jateng\n",
      "URL: https://www.kompas.com/jawa-tengah/read/2025/05/07/164035688/13-tanda-ginjal-bermasalah-yang-dirasakan-di-malam-hari-salah?source=terpopuler\n",
      "--------------------------------------------------\n",
      "Nomor: 3\n",
      "Judul: Latar Belakang Konflik India dan Pakistan\n",
      "Kategori: STORI\n",
      "URL: https://www.kompas.com/stori/read/2025/05/07/180000979/latar-belakang-konflik-india-dan-pakistan?source=terpopuler\n",
      "--------------------------------------------------\n",
      "Nomor: 4\n",
      "Judul: Kementerian BUMN Tunjuk Rivan A Purwantono Jadi Direktur Utama PT Jasa Marga\n",
      "Kategori: NEWS\n",
      "URL: https://nasional.kompas.com/read/2025/05/07/18115761/kementerian-bumn-tunjuk-rivan-a-purwantono-jadi-direktur-utama-pt-jasa-marga?source=terpopuler\n",
      "--------------------------------------------------\n",
      "Nomor: 5\n",
      "Judul: Tolak Rp 150 Juta dari OCI, Eks Pemain Sirkus Tuntut Rp 700 Juta Per Orang\n",
      "Kategori: NEWS\n",
      "URL: https://nasional.kompas.com/read/2025/05/07/17032871/tolak-rp-150-juta-dari-oci-eks-pemain-sirkus-tuntut-rp-700-juta-per-orang?source=terpopuler\n",
      "--------------------------------------------------\n"
     ]
    }
   ],
   "source": [
    "item_populars = soup.find_all('div', class_='mostItem')[:5]\n",
    "\n",
    "for item in item_populars:\n",
    "    # Mengambil nomor urut\n",
    "    number = item.find('div', class_='mostNumber').get_text(strip=True)\n",
    "    \n",
    "    # Mengambil judul artikel\n",
    "    title = item.find('h2', class_='mostTitle').get_text(strip=True)\n",
    "    \n",
    "    # Mengambil kategori (channel)\n",
    "    channel = item.find('div', class_='mostChannel').get_text(strip=True)\n",
    "    \n",
    "    # Mengambil URL artikel\n",
    "    url_article = item.find('a')['href']\n",
    "    \n",
    "    # Menampilkan hasil\n",
    "    print(f\"Nomor: {number}\")\n",
    "    print(f\"Judul: {title}\")\n",
    "    print(f\"Kategori: {channel}\")\n",
    "    print(f\"URL: {url_article}\")\n",
    "    print('-' * 50)"
   ]
  }
 ],
 "metadata": {
  "kernelspec": {
   "display_name": "Python 3",
   "language": "python",
   "name": "python3"
  },
  "language_info": {
   "codemirror_mode": {
    "name": "ipython",
    "version": 3
   },
   "file_extension": ".py",
   "mimetype": "text/x-python",
   "name": "python",
   "nbconvert_exporter": "python",
   "pygments_lexer": "ipython3",
   "version": "3.13.3"
  }
 },
 "nbformat": 4,
 "nbformat_minor": 5
}
