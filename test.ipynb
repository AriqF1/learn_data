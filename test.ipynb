{
 "cells": [
  {
   "cell_type": "code",
   "execution_count": 6,
   "id": "af8dd29e",
   "metadata": {},
   "outputs": [],
   "source": [
    "import requests as rs\n",
    "from bs4 import BeautifulSoup as bs"
   ]
  },
  {
   "cell_type": "code",
   "execution_count": 8,
   "id": "53e09360",
   "metadata": {},
   "outputs": [
    {
     "name": "stdout",
     "output_type": "stream",
     "text": [
      "BRIN Prediksi Idul Adha 2025 Berpotensi Beda, Ini Alasannya\n",
      "Penjelasan Lengkap Ahmad Dhani di Sidang MKD DPR RI Terkait Laporan Pelanggaran Etik\n",
      "Kecelakaan Bus Terus Berulang, Imbas Berkurangnya Anggaran Keselamatan\n",
      "Gugat UU TNI, Koalisi Masyarakat Singgung Anak \"Nakal\" Dibawa ke Barak\n",
      "SDN Utan Jaya Depok Disegel, Siswa Terpaksa Belajar dari Rumah\n",
      "Tangis Haru Luna Maya Saat Maxime Bouttier Ucapkan Ijab Kabul\n",
      "IDAI Minta Kemenkes Transparan soal Alasan Mutasi Dokter Anak\n"
     ]
    }
   ],
   "source": [
    "url = \"https://www.kompas.com/\"\n",
    "response = rs.get(url)\n",
    "if response.status_code == 200:\n",
    "    soup = bs(response.text, 'html.parser')\n",
    "    #catch semua <h1>\n",
    "    h1_tags = soup.find_all('h1')\n",
    "    for tag in h1_tags:\n",
    "        print(tag.text)\n",
    "else:\n",
    "    print(f\"Failed to retrieve page: {response.status_code}\")"
   ]
  },
  {
   "cell_type": "code",
   "execution_count": null,
   "id": "1a81fd35",
   "metadata": {},
   "outputs": [],
   "source": [
    "item_populars = soup.find_all('div', class_='mostItem')[:5]\n",
    "data = []\n",
    "for item in item_populars:\n",
    "    # Mengambil nomor urut\n",
    "    number = item.find('div', class_='mostNumber').get_text(strip=True)\n",
    "    \n",
    "    # Mengambil judul artikel\n",
    "    title = item.find('h2', class_='mostTitle').get_text(strip=True)\n",
    "    \n",
    "    # Mengambil kategori (channel)\n",
    "    channel = item.find('div', class_='mostChannel').get_text(strip=True)\n",
    "    \n",
    "    # Mengambil URL artikel\n",
    "    url_article = item.find('a')['href']\n",
    "    \n",
    "    # Menyimpan data ke dalam list yang kosong dengan append\n",
    "    data.append({\n",
    "        'number': number,\n",
    "        'title': title,\n",
    "        'channel': channel,\n",
    "        'url_article': url_article\n",
    "    })"
   ]
  },
  {
   "cell_type": "code",
   "execution_count": null,
   "id": "08bd787f",
   "metadata": {},
   "outputs": [
    {
     "name": "stdout",
     "output_type": "stream",
     "text": [
      "  number                                              title channel  \\\n",
      "0      1  Maskawin Pernikahan Luna Maya dan Maxime Boutt...    HYPE   \n",
      "1      2  13 Tanda Ginjal Bermasalah yang Dirasakan di M...  jateng   \n",
      "2      3          Latar Belakang Konflik India dan Pakistan   STORI   \n",
      "3      4  Kementerian BUMN Tunjuk Rivan A Purwantono Jad...    NEWS   \n",
      "4      5  Tolak Rp 150 Juta dari OCI, Eks Pemain Sirkus ...    NEWS   \n",
      "\n",
      "                                         url_article  \n",
      "0  https://www.kompas.com/hype/read/2025/05/07/16...  \n",
      "1  https://www.kompas.com/jawa-tengah/read/2025/0...  \n",
      "2  https://www.kompas.com/stori/read/2025/05/07/1...  \n",
      "3  https://nasional.kompas.com/read/2025/05/07/18...  \n",
      "4  https://nasional.kompas.com/read/2025/05/07/17...  \n"
     ]
    }
   ],
   "source": [
    "import pandas as pd\n",
    "# membuat variabel df untuk menampung data dari list data\n",
    "df = pd.DataFrame(data)\n",
    "\n",
    "# menampilkan data dalam bentuk tabel\n",
    "print(df)"
   ]
  },
  {
   "cell_type": "code",
   "execution_count": null,
   "id": "4753a17f",
   "metadata": {},
   "outputs": [],
   "source": []
  }
 ],
 "metadata": {
  "kernelspec": {
   "display_name": "Python 3",
   "language": "python",
   "name": "python3"
  },
  "language_info": {
   "codemirror_mode": {
    "name": "ipython",
    "version": 3
   },
   "file_extension": ".py",
   "mimetype": "text/x-python",
   "name": "python",
   "nbconvert_exporter": "python",
   "pygments_lexer": "ipython3",
   "version": "3.13.3"
  }
 },
 "nbformat": 4,
 "nbformat_minor": 5
}
